{
 "cells": [
  {
   "cell_type": "code",
   "execution_count": 3,
   "id": "4b166fc4-a883-4339-bd72-e32f6f9460d2",
   "metadata": {},
   "outputs": [],
   "source": [
    "from ultralytics import YOLO"
   ]
  },
  {
   "cell_type": "code",
   "execution_count": 2,
   "id": "1c6ebb80-1a01-41fa-8446-01c81726f6fe",
   "metadata": {},
   "outputs": [
    {
     "name": "stdout",
     "output_type": "stream",
     "text": [
      "Requirement already satisfied: opencv-python in d:\\tools\\anaconda3\\envs\\trackey\\lib\\site-packages (4.12.0.88)\n",
      "Requirement already satisfied: numpy<2.3.0,>=2 in d:\\tools\\anaconda3\\envs\\trackey\\lib\\site-packages (from opencv-python) (2.2.6)\n"
     ]
    }
   ],
   "source": [
    "!pip install opencv-python"
   ]
  },
  {
   "cell_type": "code",
   "execution_count": 4,
   "id": "6e03aa51-1963-4ed3-9c35-70c37b73f08d",
   "metadata": {},
   "outputs": [],
   "source": [
    "# Load a pretrained YOLOv8 model (nano version here)\n",
    "model = YOLO(\"yolov8n.pt\")"
   ]
  },
  {
   "cell_type": "code",
   "execution_count": 21,
   "id": "cdc88e52-5d58-4679-a776-7c23916f69a6",
   "metadata": {
    "scrolled": true
   },
   "outputs": [
    {
     "name": "stdout",
     "output_type": "stream",
     "text": [
      "\n",
      "image 1/1 C:\\Users\\Mohamed Emad\\OneDrive\\Pictures\\New York\\20221203_203840.jpg: 640x384 6 persons, 134.1ms\n",
      "Speed: 4.9ms preprocess, 134.1ms inference, 3.4ms postprocess per image at shape (1, 3, 640, 384)\n"
     ]
    }
   ],
   "source": [
    "# Predict with the model\n",
    "results = model(\"C:/Users/Mohamed Emad/OneDrive/Pictures/New York/20221203_203840.jpg\")  # predict on an image"
   ]
  },
  {
   "cell_type": "code",
   "execution_count": 23,
   "id": "2419aba5-b390-44af-9037-8919fbbac841",
   "metadata": {
    "scrolled": true
   },
   "outputs": [
    {
     "data": {
      "text/plain": [
       "ultralytics.engine.results.Results object with attributes:\n",
       "\n",
       "boxes: ultralytics.engine.results.Boxes object\n",
       "keypoints: None\n",
       "masks: None\n",
       "names: {0: 'person', 1: 'bicycle', 2: 'car', 3: 'motorcycle', 4: 'airplane', 5: 'bus', 6: 'train', 7: 'truck', 8: 'boat', 9: 'traffic light', 10: 'fire hydrant', 11: 'stop sign', 12: 'parking meter', 13: 'bench', 14: 'bird', 15: 'cat', 16: 'dog', 17: 'horse', 18: 'sheep', 19: 'cow', 20: 'elephant', 21: 'bear', 22: 'zebra', 23: 'giraffe', 24: 'backpack', 25: 'umbrella', 26: 'handbag', 27: 'tie', 28: 'suitcase', 29: 'frisbee', 30: 'skis', 31: 'snowboard', 32: 'sports ball', 33: 'kite', 34: 'baseball bat', 35: 'baseball glove', 36: 'skateboard', 37: 'surfboard', 38: 'tennis racket', 39: 'bottle', 40: 'wine glass', 41: 'cup', 42: 'fork', 43: 'knife', 44: 'spoon', 45: 'bowl', 46: 'banana', 47: 'apple', 48: 'sandwich', 49: 'orange', 50: 'broccoli', 51: 'carrot', 52: 'hot dog', 53: 'pizza', 54: 'donut', 55: 'cake', 56: 'chair', 57: 'couch', 58: 'potted plant', 59: 'bed', 60: 'dining table', 61: 'toilet', 62: 'tv', 63: 'laptop', 64: 'mouse', 65: 'remote', 66: 'keyboard', 67: 'cell phone', 68: 'microwave', 69: 'oven', 70: 'toaster', 71: 'sink', 72: 'refrigerator', 73: 'book', 74: 'clock', 75: 'vase', 76: 'scissors', 77: 'teddy bear', 78: 'hair drier', 79: 'toothbrush'}\n",
       "obb: None\n",
       "orig_img: array([[[83, 70, 18],\n",
       "        [85, 72, 20],\n",
       "        [87, 74, 22],\n",
       "        ...,\n",
       "        [36, 24, 22],\n",
       "        [41, 29, 27],\n",
       "        [50, 38, 36]],\n",
       "\n",
       "       [[82, 69, 17],\n",
       "        [86, 73, 21],\n",
       "        [89, 76, 24],\n",
       "        ...,\n",
       "        [37, 25, 23],\n",
       "        [42, 30, 28],\n",
       "        [48, 36, 34]],\n",
       "\n",
       "       [[86, 73, 21],\n",
       "        [88, 75, 23],\n",
       "        [88, 75, 23],\n",
       "        ...,\n",
       "        [35, 26, 23],\n",
       "        [38, 29, 26],\n",
       "        [41, 32, 29]],\n",
       "\n",
       "       ...,\n",
       "\n",
       "       [[29, 29, 29],\n",
       "        [24, 24, 24],\n",
       "        [20, 20, 20],\n",
       "        ...,\n",
       "        [26, 31, 34],\n",
       "        [19, 24, 27],\n",
       "        [15, 20, 23]],\n",
       "\n",
       "       [[25, 25, 25],\n",
       "        [20, 20, 20],\n",
       "        [20, 20, 20],\n",
       "        ...,\n",
       "        [22, 27, 30],\n",
       "        [23, 28, 31],\n",
       "        [20, 25, 28]],\n",
       "\n",
       "       [[31, 31, 31],\n",
       "        [25, 25, 25],\n",
       "        [16, 16, 16],\n",
       "        ...,\n",
       "        [29, 34, 37],\n",
       "        [28, 33, 36],\n",
       "        [24, 29, 32]]], shape=(4032, 2268, 3), dtype=uint8)\n",
       "orig_shape: (4032, 2268)\n",
       "path: 'C:\\\\Users\\\\Mohamed Emad\\\\OneDrive\\\\Pictures\\\\New York\\\\20221203_203840.jpg'\n",
       "probs: None\n",
       "save_dir: 'runs\\\\detect\\\\predict'\n",
       "speed: {'preprocess': 4.8667999981262255, 'inference': 134.09299999693758, 'postprocess': 3.4021000028587878}"
      ]
     },
     "execution_count": 23,
     "metadata": {},
     "output_type": "execute_result"
    }
   ],
   "source": [
    "results[0]"
   ]
  },
  {
   "cell_type": "code",
   "execution_count": 24,
   "id": "aaa72db6-28d2-4420-9eb0-94619c621ad7",
   "metadata": {
    "scrolled": true
   },
   "outputs": [
    {
     "name": "stdout",
     "output_type": "stream",
     "text": [
      "ultralytics.engine.results.Results object with attributes:\n",
      "\n",
      "boxes: ultralytics.engine.results.Boxes object\n",
      "keypoints: None\n",
      "masks: None\n",
      "names: {0: 'person', 1: 'bicycle', 2: 'car', 3: 'motorcycle', 4: 'airplane', 5: 'bus', 6: 'train', 7: 'truck', 8: 'boat', 9: 'traffic light', 10: 'fire hydrant', 11: 'stop sign', 12: 'parking meter', 13: 'bench', 14: 'bird', 15: 'cat', 16: 'dog', 17: 'horse', 18: 'sheep', 19: 'cow', 20: 'elephant', 21: 'bear', 22: 'zebra', 23: 'giraffe', 24: 'backpack', 25: 'umbrella', 26: 'handbag', 27: 'tie', 28: 'suitcase', 29: 'frisbee', 30: 'skis', 31: 'snowboard', 32: 'sports ball', 33: 'kite', 34: 'baseball bat', 35: 'baseball glove', 36: 'skateboard', 37: 'surfboard', 38: 'tennis racket', 39: 'bottle', 40: 'wine glass', 41: 'cup', 42: 'fork', 43: 'knife', 44: 'spoon', 45: 'bowl', 46: 'banana', 47: 'apple', 48: 'sandwich', 49: 'orange', 50: 'broccoli', 51: 'carrot', 52: 'hot dog', 53: 'pizza', 54: 'donut', 55: 'cake', 56: 'chair', 57: 'couch', 58: 'potted plant', 59: 'bed', 60: 'dining table', 61: 'toilet', 62: 'tv', 63: 'laptop', 64: 'mouse', 65: 'remote', 66: 'keyboard', 67: 'cell phone', 68: 'microwave', 69: 'oven', 70: 'toaster', 71: 'sink', 72: 'refrigerator', 73: 'book', 74: 'clock', 75: 'vase', 76: 'scissors', 77: 'teddy bear', 78: 'hair drier', 79: 'toothbrush'}\n",
      "obb: None\n",
      "orig_img: array([[[83, 70, 18],\n",
      "        [85, 72, 20],\n",
      "        [87, 74, 22],\n",
      "        ...,\n",
      "        [36, 24, 22],\n",
      "        [41, 29, 27],\n",
      "        [50, 38, 36]],\n",
      "\n",
      "       [[82, 69, 17],\n",
      "        [86, 73, 21],\n",
      "        [89, 76, 24],\n",
      "        ...,\n",
      "        [37, 25, 23],\n",
      "        [42, 30, 28],\n",
      "        [48, 36, 34]],\n",
      "\n",
      "       [[86, 73, 21],\n",
      "        [88, 75, 23],\n",
      "        [88, 75, 23],\n",
      "        ...,\n",
      "        [35, 26, 23],\n",
      "        [38, 29, 26],\n",
      "        [41, 32, 29]],\n",
      "\n",
      "       ...,\n",
      "\n",
      "       [[29, 29, 29],\n",
      "        [24, 24, 24],\n",
      "        [20, 20, 20],\n",
      "        ...,\n",
      "        [26, 31, 34],\n",
      "        [19, 24, 27],\n",
      "        [15, 20, 23]],\n",
      "\n",
      "       [[25, 25, 25],\n",
      "        [20, 20, 20],\n",
      "        [20, 20, 20],\n",
      "        ...,\n",
      "        [22, 27, 30],\n",
      "        [23, 28, 31],\n",
      "        [20, 25, 28]],\n",
      "\n",
      "       [[31, 31, 31],\n",
      "        [25, 25, 25],\n",
      "        [16, 16, 16],\n",
      "        ...,\n",
      "        [29, 34, 37],\n",
      "        [28, 33, 36],\n",
      "        [24, 29, 32]]], shape=(4032, 2268, 3), dtype=uint8)\n",
      "orig_shape: (4032, 2268)\n",
      "path: 'C:\\\\Users\\\\Mohamed Emad\\\\OneDrive\\\\Pictures\\\\New York\\\\20221203_203840.jpg'\n",
      "probs: None\n",
      "save_dir: 'runs\\\\detect\\\\predict'\n",
      "speed: {'preprocess': 4.8667999981262255, 'inference': 134.09299999693758, 'postprocess': 3.4021000028587878}\n"
     ]
    }
   ],
   "source": [
    "print(results[0])"
   ]
  },
  {
   "cell_type": "code",
   "execution_count": 25,
   "id": "78f3ea56-9334-44f0-b61a-e107d1a8b666",
   "metadata": {},
   "outputs": [
    {
     "name": "stdout",
     "output_type": "stream",
     "text": [
      "result 0 : \n",
      "ultralytics.engine.results.Boxes object with attributes:\n",
      "\n",
      "cls: tensor([0.])\n",
      "conf: tensor([0.9235])\n",
      "data: tensor([[7.3850e+02, 1.5828e+03, 1.6832e+03, 4.0240e+03, 9.2352e-01, 0.0000e+00]])\n",
      "id: None\n",
      "is_track: False\n",
      "orig_shape: (4032, 2268)\n",
      "shape: torch.Size([1, 6])\n",
      "xywh: tensor([[1210.8646, 2803.3552,  944.7212, 2441.1924]])\n",
      "xywhn: tensor([[0.5339, 0.6953, 0.4165, 0.6055]])\n",
      "xyxy: tensor([[ 738.5040, 1582.7592, 1683.2252, 4023.9514]])\n",
      "xyxyn: tensor([[0.3256, 0.3925, 0.7422, 0.9980]])\n",
      "result 1 : \n",
      "ultralytics.engine.results.Boxes object with attributes:\n",
      "\n",
      "cls: tensor([0.])\n",
      "conf: tensor([0.8404])\n",
      "data: tensor([[1.8297e+03, 1.8932e+03, 2.2661e+03, 4.0290e+03, 8.4044e-01, 0.0000e+00]])\n",
      "id: None\n",
      "is_track: False\n",
      "orig_shape: (4032, 2268)\n",
      "shape: torch.Size([1, 6])\n",
      "xywh: tensor([[2047.8933, 2961.1116,  436.4088, 2135.7656]])\n",
      "xywhn: tensor([[0.9030, 0.7344, 0.1924, 0.5297]])\n",
      "xyxy: tensor([[1829.6888, 1893.2288, 2266.0977, 4028.9944]])\n",
      "xyxyn: tensor([[0.8067, 0.4696, 0.9992, 0.9993]])\n",
      "result 2 : \n",
      "ultralytics.engine.results.Boxes object with attributes:\n",
      "\n",
      "cls: tensor([0.])\n",
      "conf: tensor([0.8107])\n",
      "data: tensor([[5.0323e+01, 2.0132e+03, 5.0018e+02, 3.1800e+03, 8.1067e-01, 0.0000e+00]])\n",
      "id: None\n",
      "is_track: False\n",
      "orig_shape: (4032, 2268)\n",
      "shape: torch.Size([1, 6])\n",
      "xywh: tensor([[ 275.2518, 2596.5640,  449.8582, 1166.8157]])\n",
      "xywhn: tensor([[0.1214, 0.6440, 0.1984, 0.2894]])\n",
      "xyxy: tensor([[  50.3227, 2013.1562,  500.1809, 3179.9719]])\n",
      "xyxyn: tensor([[0.0222, 0.4993, 0.2205, 0.7887]])\n",
      "result 3 : \n",
      "ultralytics.engine.results.Boxes object with attributes:\n",
      "\n",
      "cls: tensor([0.])\n",
      "conf: tensor([0.7905])\n",
      "data: tensor([[4.3345e+02, 1.9723e+03, 8.2070e+02, 2.9705e+03, 7.9046e-01, 0.0000e+00]])\n",
      "id: None\n",
      "is_track: False\n",
      "orig_shape: (4032, 2268)\n",
      "shape: torch.Size([1, 6])\n",
      "xywh: tensor([[ 627.0723, 2471.3799,  387.2534,  998.2384]])\n",
      "xywhn: tensor([[0.2765, 0.6129, 0.1707, 0.2476]])\n",
      "xyxy: tensor([[ 433.4456, 1972.2606,  820.6990, 2970.4990]])\n",
      "xyxyn: tensor([[0.1911, 0.4892, 0.3619, 0.7367]])\n",
      "result 4 : \n",
      "ultralytics.engine.results.Boxes object with attributes:\n",
      "\n",
      "cls: tensor([0.])\n",
      "conf: tensor([0.6901])\n",
      "data: tensor([[1.4165e+03, 1.9314e+03, 1.9126e+03, 3.6921e+03, 6.9015e-01, 0.0000e+00]])\n",
      "id: None\n",
      "is_track: False\n",
      "orig_shape: (4032, 2268)\n",
      "shape: torch.Size([1, 6])\n",
      "xywh: tensor([[1664.5288, 2811.7627,  496.0851, 1760.7720]])\n",
      "xywhn: tensor([[0.7339, 0.6974, 0.2187, 0.4367]])\n",
      "xyxy: tensor([[1416.4862, 1931.3767, 1912.5713, 3692.1487]])\n",
      "xyxyn: tensor([[0.6246, 0.4790, 0.8433, 0.9157]])\n",
      "result 5 : \n",
      "ultralytics.engine.results.Boxes object with attributes:\n",
      "\n",
      "cls: tensor([0.])\n",
      "conf: tensor([0.5747])\n",
      "data: tensor([[1.8084e+03, 1.9961e+03, 2.0761e+03, 2.3921e+03, 5.7471e-01, 0.0000e+00]])\n",
      "id: None\n",
      "is_track: False\n",
      "orig_shape: (4032, 2268)\n",
      "shape: torch.Size([1, 6])\n",
      "xywh: tensor([[1942.2148, 2194.0986,  267.7021,  395.9540]])\n",
      "xywhn: tensor([[0.8564, 0.5442, 0.1180, 0.0982]])\n",
      "xyxy: tensor([[1808.3638, 1996.1217, 2076.0659, 2392.0757]])\n",
      "xyxyn: tensor([[0.7973, 0.4951, 0.9154, 0.5933]])\n"
     ]
    }
   ],
   "source": [
    "results = results[0]\n",
    "for i, result in enumerate(results):\n",
    "    boxes = result.boxes  # Boxes object for bounding box outputs\n",
    "    print(f\"result {i} : \")\n",
    "    print(result.boxes)\n",
    "    masks = result.masks  # Masks object for segmentation masks outputs\n",
    "    keypoints = result.keypoints  # Keypoints object for pose outputs\n",
    "    probs = result.probs  # Probs object for classification outputs\n",
    "    obb = result.obb  # Oriented boxes object for OBB outputs\n",
    "    result.show()  # display to screen\n",
    "    result.save(filename=\"result.jpg\")  # save to disk"
   ]
  },
  {
   "cell_type": "code",
   "execution_count": null,
   "id": "1d84bcdc-92af-43f8-9874-745d04ca279f",
   "metadata": {},
   "outputs": [],
   "source": []
  }
 ],
 "metadata": {
  "kernelspec": {
   "display_name": "Python 3 (ipykernel)",
   "language": "python",
   "name": "python3"
  },
  "language_info": {
   "codemirror_mode": {
    "name": "ipython",
    "version": 3
   },
   "file_extension": ".py",
   "mimetype": "text/x-python",
   "name": "python",
   "nbconvert_exporter": "python",
   "pygments_lexer": "ipython3",
   "version": "3.11.13"
  }
 },
 "nbformat": 4,
 "nbformat_minor": 5
}
